{
 "cells": [
  {
   "cell_type": "code",
   "execution_count": 24,
   "metadata": {},
   "outputs": [
    {
     "name": "stdout",
     "output_type": "stream",
     "text": [
      "Choose a destination call: \n",
      "1. Philippines (₱50)\n",
      "2. Int'l (₱100)\n",
      "Destination call: 2\n",
      "Choose the day you're making a call \n",
      "1. Weekdays ₱20 (Mon-Fri)\n",
      "1. Weekends ₱50(Sat-Sun)\n",
      "Day of your call:2\n",
      "How long will your call last in minutes?\n",
      "The first 60 minutes is ₱10 and the succeeding minutes costs a fixed ₱30, up to 2 hours.\n",
      "Enter duration: 120\n",
      "Bill is:  180\n"
     ]
    }
   ],
   "source": [
    "''' Activity 1. Design your own program\n",
    "\n",
    "1. Input: Destination Call\n",
    "           Time code\n",
    "           Duration of call\n",
    "   Output: Bill\n",
    "   \n",
    "2.\n",
    "   \n",
    "   Face\n",
    "   Calendar of birthmonth with days and date\n",
    "   \n",
    "   '''\n",
    "\n",
    "\n",
    "print(\"Choose a destination call: \")\n",
    "print(\"1. Philippines (₱50)\")\n",
    "print(\"2. Int'l (₱100)\")\n",
    "\n",
    "dc=int(input(\"Destination call: \"))\n",
    "\n",
    "print(\"Choose the day you're making a call \")\n",
    "print(\"1. Weekdays ₱20 (Mon-Fri)\")\n",
    "print(\"2. Weekends ₱50(Sat-Sun)\")\n",
    "day=int(input(\"Day of your call:\"))\n",
    "\n",
    "print(\"How long will your call last in minutes?\")\n",
    "print(\"The first 60 minutes is ₱10 and the succeeding minutes costs a fixed ₱30, up to 2 hours.\")\n",
    "dur=int(input(\"Enter duration: \"))\n",
    "if dc==1:\n",
    "    bill=50\n",
    "    if day==1:\n",
    "        bill = bill+20\n",
    "        if dur<=60:\n",
    "            bill = bill + 10\n",
    "        elif dur>60:\n",
    "            bill = bill +30\n",
    "        \n",
    "    elif day==2:\n",
    "        bill = bill+50\n",
    "        if dur<=60:\n",
    "            bill= bill + 10\n",
    "        elif dur>60:\n",
    "            bill = bill + 30\n",
    "            \n",
    "elif dc==2:\n",
    "    bill = 100\n",
    "    if day==1:\n",
    "        bill = bill+20\n",
    "        if dur<=60:\n",
    "            bill = bill + 10\n",
    "        elif dur>60:\n",
    "            bill = bill +30\n",
    "        \n",
    "    elif day==2:\n",
    "        bill = bill+50\n",
    "        if dur<=60:\n",
    "            bill= bill + 10\n",
    "        elif dur>60:\n",
    "            bill = bill + 30\n",
    "        \n",
    "        \n",
    "print(\"Bill is: \", bill)\n",
    "        "
   ]
  },
  {
   "cell_type": "code",
   "execution_count": 9,
   "metadata": {},
   "outputs": [
    {
     "name": "stdout",
     "output_type": "stream",
     "text": [
      "f. Face \n",
      "c. Calendar\n",
      "What would you like to see?c\n",
      "\u001b[31m \u001b[5m\n",
      "   February 2004\n",
      "Mo Tu We Th Fr Sa Su\n",
      "                   1\n",
      " 2  3  4  5  6  7  8\n",
      " 9 10 11 12 13 14 15\n",
      "16 17 18 19 20 21 22\n",
      "23 24 25 26 27 28 29\n",
      "\n"
     ]
    }
   ],
   "source": [
    "import calendar as cldr\n",
    "year = 2004\n",
    "month = 2\n",
    "(\"What would you like to see?\\n\")\n",
    "print(\"f. Face \")\n",
    "print(\"c. Calendar\")\n",
    "\n",
    "choice= (input(\"What would you like to see?\"))\n",
    "\n",
    "if choice in ['f','F']: \n",
    "    print(\"    /\\\\\")\n",
    "    print(\"   /  \\\\\")\n",
    "    print(\"  /    \\\\\")\n",
    "    print(\" ༼*      ༽\")\n",
    "    print(\"༼ つ ◕_◕ ༽つ----\")\n",
    "    print(\"~~~~~~~~~~\")\n",
    "    print(\"yer a wizard harry\")\n",
    "\n",
    "if choice in ['c','C']:\n",
    "    import calendar as cldr\n",
    "def esc(code):\n",
    "    return f'\\033[{code}m'\n",
    "#ANSI escape sequence to change font (esc(5)) and color (esc(31)).Couldn't get it to highlight only one day to show the birthday.\n",
    "print(esc(31), esc(5))\n",
    "print(cldr.month(year,month))\n",
    "    "
   ]
  },
  {
   "cell_type": "code",
   "execution_count": null,
   "metadata": {},
   "outputs": [],
   "source": []
  }
 ],
 "metadata": {
  "kernelspec": {
   "display_name": "Python 3",
   "language": "python",
   "name": "python3"
  },
  "language_info": {
   "codemirror_mode": {
    "name": "ipython",
    "version": 3
   },
   "file_extension": ".py",
   "mimetype": "text/x-python",
   "name": "python",
   "nbconvert_exporter": "python",
   "pygments_lexer": "ipython3",
   "version": "3.8.3"
  }
 },
 "nbformat": 4,
 "nbformat_minor": 4
}
